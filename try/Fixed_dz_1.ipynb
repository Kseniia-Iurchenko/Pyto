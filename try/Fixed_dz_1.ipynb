{
 "cells": [
  {
   "cell_type": "code",
   "execution_count": 3,
   "metadata": {},
   "outputs": [],
   "source": [
    "# Задание № 1"
   ]
  },
  {
   "cell_type": "code",
   "execution_count": 4,
   "metadata": {},
   "outputs": [
    {
     "name": "stdout",
     "output_type": "stream",
     "text": [
      "Фраза 1 длиннее фразы 2\n"
     ]
    }
   ],
   "source": [
    "phrase_1 = 'Насколько проще было бы писать программы, если бы не заказчики'\n",
    "phrase_2 = '640Кб должно хватить для любых задач. Билл Гейтс (по легенде)'\n",
    "if len(phrase_1) > len(phrase_2): \n",
    "    print('Фраза 1 длиннее фразы 2') \n",
    "elif len(phrase_1) < len(phrase_2): \n",
    "    print('Фраза 2 длиннее фразы 1') \n",
    "else: \n",
    "    print('Фразы равной длины')\n",
    "        "
   ]
  },
  {
   "cell_type": "code",
   "execution_count": 5,
   "metadata": {},
   "outputs": [],
   "source": [
    "# Задание №2"
   ]
  },
  {
   "cell_type": "code",
   "execution_count": 6,
   "metadata": {},
   "outputs": [
    {
     "name": "stdout",
     "output_type": "stream",
     "text": [
      "Високосный год\n"
     ]
    }
   ],
   "source": [
    "year = 2020 \n",
    "if(year % 4 == 0) and (year % 100 != 0) or (year % 400 ==0): \n",
    "    print('Високосный год')\n",
    "else: \n",
    "    print('Обычный год')"
   ]
  },
  {
   "cell_type": "code",
   "execution_count": 7,
   "metadata": {},
   "outputs": [
    {
     "name": "stdout",
     "output_type": "stream",
     "text": [
      "Обычный год\n"
     ]
    }
   ],
   "source": [
    "year = 2019 \n",
    "if(year % 4 == 0) and (year % 100 != 0) or (year % 400 ==0): \n",
    "    print('Високосный год')\n",
    "else: \n",
    "    print('Обычный год')"
   ]
  },
  {
   "cell_type": "code",
   "execution_count": 8,
   "metadata": {},
   "outputs": [],
   "source": [
    "# Задание №3"
   ]
  },
  {
   "cell_type": "code",
   "execution_count": 9,
   "metadata": {},
   "outputs": [
    {
     "name": "stdout",
     "output_type": "stream",
     "text": [
      "Введите день 4\n",
      "Введите месяц 3\n",
      "Ваш знак Зодиака Рыбы\n"
     ]
    }
   ],
   "source": [
    "birth_date = int(input('Введите день ')) \n",
    "birth_month = int(input('Введите месяц '))\n",
    "if(birth_date >= 21 and birth_date <= 31 and birth_month == 3)or(birth_month == 4 and birth_date >= 1 and birth_date <= 19): \n",
    "    print('Ваш знак Зодиака: Овен') \n",
    "elif(birth_date >= 20 and birth_date <= 30 and birth_month == 4)or(birth_month == 5 and birth_date >= 1 and birth_date <= 20): \n",
    "    print('Ваш знак Зодиака: Телец') \n",
    "elif(birth_date >= 21 and birth_date <= 31 and birth_month == 5)or(birth_month == 6 and birth_date >= 1 and birth_date <= 21): \n",
    "    print('Ваш знак Зодиака Близнецы')\n",
    "elif(birth_date >= 22 and birth_date <= 30 and birth_month == 6)or(birth_month == 7 and birth_date >= 1 and birth_date <= 22): \n",
    "    print('Ваш знак Зодиака Рак') \n",
    "elif(birth_date >= 23 and birth_date <= 31 and birth_month == 7)or(birth_month == 8 and birth_date >= 1 and birth_date <= 22): \n",
    "    print('Ваш знак Зодиака Лев')\n",
    "elif(birth_date >= 23 and birth_date <= 31 and birth_month == 8)or(birth_month == 9 and birth_date >= 1 and birth_date <= 22): \n",
    "    print('Ваш знак Зодиака Дева') \n",
    "elif(birth_date >= 23 and birth_date <= 30 and birth_month == 9)or(birth_month == 10 and birth_date >= 1 and birth_date <= 23): \n",
    "    print('Ваш знак Зодиака Весы')\n",
    "elif(birth_date >= 24 and birth_date <= 31 and birth_month == 10)or(birth_month == 11 and birth_date >= 1 and birth_date <= 22): \n",
    "    print('Ваш знак Зодиака Скорпион') \n",
    "elif(birth_date >= 23 and birth_date <= 30 and birth_month == 11)or(birth_month == 12 and birth_date >= 1 and birth_date <= 21):\n",
    "    print('Ваш знак Зодиака Стрелец') \n",
    "elif(birth_date >= 22 and birth_date <= 31 and birth_month == 12)or(birth_month == 1 and birth_date >= 1 and birth_date <= 20): \n",
    "    print('Ваш знак Зодиака Козерог') \n",
    "elif(birth_date >= 21 and birth_date <= 31 and birth_month == 1)or(birth_month == 2 and birth_date >= 1 and birth_date <= 18): \n",
    "    print('Ваш знак Зодиака Водолей') \n",
    "elif(birth_date >= 19 and birth_date <= 29 and birth_month == 2)or(birth_month == 3 and birth_date >= 1 and birth_date <= 20): \n",
    "    print('Ваш знак Зодиака Рыбы')"
   ]
  },
  {
   "cell_type": "code",
   "execution_count": 10,
   "metadata": {},
   "outputs": [],
   "source": [
    "# Задание №4"
   ]
  },
  {
   "cell_type": "code",
   "execution_count": 11,
   "metadata": {},
   "outputs": [
    {
     "name": "stdout",
     "output_type": "stream",
     "text": [
      "Введите длину: 205\n",
      "Введите ширину: 45\n",
      "Введите высоту: 45\n",
      "Упаковка для лыж\n"
     ]
    }
   ],
   "source": [
    "length = int(input('Введите длину: '))\n",
    "width = int(input('Введите ширину: ')) \n",
    "height = int(input('Введите высоту: ')) \n",
    "if length >=200: \n",
    "    print('Упаковка для лыж') \n",
    "elif(15 < width < 50 or 15 < length < 50 or 15 < height < 50): \n",
    "    print('Коробка №2')\n",
    "elif(width < 15 and length < 15 and height < 15): \n",
    "    print('Коробка №1') \n",
    "else: \n",
    "    print('Стандартная коробка №3')\n"
   ]
  },
  {
   "cell_type": "code",
   "execution_count": null,
   "metadata": {},
   "outputs": [],
   "source": []
  }
 ],
 "metadata": {
  "kernelspec": {
   "display_name": "Python 3",
   "language": "python",
   "name": "python3"
  },
  "language_info": {
   "codemirror_mode": {
    "name": "ipython",
    "version": 3
   },
   "file_extension": ".py",
   "mimetype": "text/x-python",
   "name": "python",
   "nbconvert_exporter": "python",
   "pygments_lexer": "ipython3",
   "version": "3.8.5"
  }
 },
 "nbformat": 4,
 "nbformat_minor": 4
}
