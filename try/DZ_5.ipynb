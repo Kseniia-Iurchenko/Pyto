{
 "cells": [
  {
   "cell_type": "code",
   "execution_count": 2,
   "metadata": {},
   "outputs": [],
   "source": [
    "import json"
   ]
  },
  {
   "cell_type": "code",
   "execution_count": 11,
   "metadata": {},
   "outputs": [
    {
     "name": "stdout",
     "output_type": "stream",
     "text": [
      "{'user_id': 'df85c3cd61', 'category': 'Бытовая техника'}\n"
     ]
    }
   ],
   "source": [
    "purchases = {}\n",
    "with open('purchase_log.txt', encoding='utf-8') as purchase:\n",
    "       for line in purchase:\n",
    "          line = line.strip()\n",
    "dict_ = json.loads(line)\n",
    "print(dict_)\n",
    "key=dict_['user_id']\n",
    "value=dict_['category']\n",
    "if key!='user_id':\n",
    "           purchases.setdefault(key,value)"
   ]
  },
  {
   "cell_type": "code",
   "execution_count": 10,
   "metadata": {},
   "outputs": [],
   "source": [
    "with open('visit_log.csv', 'r') as visit, open('funnel.csv', 'w') as funnel:\n",
    "        for row in visit:\n",
    "            line_list = row.strip().split(',')\n",
    "            if line_list[0] in new_dict.keys():\n",
    "                line_list.append(new_dict[line_list[0]])\n",
    "                add_line = ','.join(line_list)\n",
    "            elif line_list[0] == 'user_id':\n",
    "                line_list.append('category')\n",
    "                add_line = ','.join(line_list)\n",
    "            else:\n",
    "                add_line = ','.join(line_list)\n",
    "            funnel.write(add_line+'\\\\n')"
   ]
  },
  {
   "cell_type": "code",
   "execution_count": null,
   "metadata": {},
   "outputs": [],
   "source": []
  },
  {
   "cell_type": "code",
   "execution_count": null,
   "metadata": {},
   "outputs": [],
   "source": []
  }
 ],
 "metadata": {
  "kernelspec": {
   "display_name": "Python 3",
   "language": "python",
   "name": "python3"
  },
  "language_info": {
   "codemirror_mode": {
    "name": "ipython",
    "version": 3
   },
   "file_extension": ".py",
   "mimetype": "text/x-python",
   "name": "python",
   "nbconvert_exporter": "python",
   "pygments_lexer": "ipython3",
   "version": "3.8.5"
  }
 },
 "nbformat": 4,
 "nbformat_minor": 4
}
